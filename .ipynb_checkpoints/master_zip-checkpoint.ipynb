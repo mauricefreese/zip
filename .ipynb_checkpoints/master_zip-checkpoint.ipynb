{
 "cells": [
  {
   "cell_type": "code",
   "execution_count": 1,
   "id": "debe660f-8c3d-4a8b-8670-93f6d2d0afce",
   "metadata": {},
   "outputs": [
    {
     "name": "stdout",
     "output_type": "stream",
     "text": [
      "For all directory paths required, insert the \u001b[1m\u001b[95mABSOLUTE PATH\u001b[0m and \u001b[1m\u001b[4m\u001b[91mNOT\u001b[0m the relative path.\n",
      "\u001b[4m\u001b[95mExample:\u001b[0m\n",
      "\u001b[92m\u001b[4mAbsolute Directory Path:\u001b[0m\u001b[4m\u001b[1m S:\\Clients\\\u001b[0mInstitution_Name\\ALM\\Historical\\2020\u001b[0m\n",
      "\u001b[91m\u001b[4mRelative Directory Path:\u001b[0m Instistution_Name\\ALM\\Historical\\2020\u001b[0m\n"
     ]
    }
   ],
   "source": [
    "import zipfile, os\n",
    "import shutil\n",
    "import os.path\n",
    "import stat\n",
    "from os.path import basename\n",
    "from shutil import make_archive\n",
    "from shutil import copytree\n",
    "import zipfile\n",
    "\n",
    "    # Text Style class\n",
    "class Color:\n",
    "    BOLD = '\\033[1m'\n",
    "    RED = '\\033[91m'\n",
    "    END = '\\033[0m'\n",
    "    UNDERLINE = '\\033[4m'\n",
    "    BLUE = '\\033[94m'\n",
    "    GREEN = '\\033[92m'\n",
    "    MAGENTA = '\\033[95m'\n",
    "        \n",
    "a = '2020'\n",
    "b = 'For all directory paths required, insert the ' + Color.BOLD + Color.MAGENTA + 'ABSOLUTE PATH' + Color.END + ' and ' + Color.BOLD + Color.UNDERLINE + Color.RED + 'NOT' + Color.END + ' the relative path.' \n",
    "c = 'Example:' \n",
    "d = Color.UNDERLINE + 'Absolute Directory Path:' + Color.END + Color.UNDERLINE + Color.BOLD + ' S:\\\\' +'Clients'+ '\\\\' + Color.END +'Institution_Name'+ '\\\\' +'ALM'+ '\\\\' +'Historical'+ '\\\\' \n",
    "e = Color.UNDERLINE + 'Relative Directory Path:' + Color.END + ' Instistution_Name' + '\\\\' +'ALM\\Historical'+ '\\\\'\n",
    "print(b)\n",
    "print(Color.UNDERLINE + Color.MAGENTA + c + Color.END)\n",
    "print(Color.GREEN + d + a+  Color.END)\n",
    "print(Color.RED + e + a + Color.END)\n"
   ]
  },
  {
   "cell_type": "code",
   "execution_count": 2,
   "id": "0722e50d-8f75-4c7b-a1a6-b2f77d2a3e7a",
   "metadata": {},
   "outputs": [],
   "source": [
    "global folder\n",
    "    # Abs path for Directory to zip\n",
    "#folder = os.path.join(str(input('Enter the directory that needs to be zipped: ')))\n",
    "folder = 'C:\\\\Users\\\\mfreese\\\\Downloads\\\\Side_work notes\\\\zip\\\\test_test'\n",
    "folder = os.path.abspath(os.path.normpath(os.path.expanduser(folder)))"
   ]
  },
  {
   "cell_type": "code",
   "execution_count": 50,
   "id": "461a135d-db87-41bd-a640-26e7ef43e717",
   "metadata": {},
   "outputs": [
    {
     "name": "stdout",
     "output_type": "stream",
     "text": [
      "Unzipping loose files: 2018 03.zip\n"
     ]
    },
    {
     "ename": "ReadError",
     "evalue": "2018 03.zip is not a zip file",
     "output_type": "error",
     "traceback": [
      "\u001b[1;31m---------------------------------------------------------------------------\u001b[0m",
      "\u001b[1;31mReadError\u001b[0m                                 Traceback (most recent call last)",
      "Cell \u001b[1;32mIn[50], line 22\u001b[0m\n\u001b[0;32m     19\u001b[0m                 os\u001b[38;5;241m.\u001b[39mremove(f)\n\u001b[0;32m     20\u001b[0m     \u001b[38;5;28mprint\u001b[39m(os\u001b[38;5;241m.\u001b[39mlistdir(abs_path))\n\u001b[1;32m---> 22\u001b[0m \u001b[43munpack_all_in_dir\u001b[49m\u001b[43m(\u001b[49m\u001b[43mfolder\u001b[49m\u001b[43m)\u001b[49m\n",
      "Cell \u001b[1;32mIn[50], line 18\u001b[0m, in \u001b[0;36munpack_all_in_dir\u001b[1;34m(folder)\u001b[0m\n\u001b[0;32m     16\u001b[0m             file \u001b[38;5;241m=\u001b[39m os\u001b[38;5;241m.\u001b[39mpath\u001b[38;5;241m.\u001b[39mjoin(abs_path,f)\n\u001b[0;32m     17\u001b[0m             \u001b[38;5;28mprint\u001b[39m(\u001b[38;5;124m'\u001b[39m\u001b[38;5;124mUnzipping loose files: \u001b[39m\u001b[38;5;132;01m%s\u001b[39;00m\u001b[38;5;124m'\u001b[39m \u001b[38;5;241m%\u001b[39m (f))\n\u001b[1;32m---> 18\u001b[0m             \u001b[43mshutil\u001b[49m\u001b[38;5;241;43m.\u001b[39;49m\u001b[43munpack_archive\u001b[49m\u001b[43m(\u001b[49m\u001b[43mf\u001b[49m\u001b[43m,\u001b[49m\u001b[38;5;28;43mformat\u001b[39;49m\u001b[38;5;241;43m=\u001b[39;49m\u001b[38;5;124;43m'\u001b[39;49m\u001b[38;5;124;43mzip\u001b[39;49m\u001b[38;5;124;43m'\u001b[39;49m\u001b[43m)\u001b[49m\n\u001b[0;32m     19\u001b[0m             os\u001b[38;5;241m.\u001b[39mremove(f)\n\u001b[0;32m     20\u001b[0m \u001b[38;5;28mprint\u001b[39m(os\u001b[38;5;241m.\u001b[39mlistdir(abs_path))\n",
      "File \u001b[1;32m~\\AppData\\Local\\anaconda3\\lib\\shutil.py:1298\u001b[0m, in \u001b[0;36munpack_archive\u001b[1;34m(filename, extract_dir, format)\u001b[0m\n\u001b[0;32m   1295\u001b[0m         \u001b[38;5;28;01mraise\u001b[39;00m \u001b[38;5;167;01mValueError\u001b[39;00m(\u001b[38;5;124m\"\u001b[39m\u001b[38;5;124mUnknown unpack format \u001b[39m\u001b[38;5;124m'\u001b[39m\u001b[38;5;132;01m{0}\u001b[39;00m\u001b[38;5;124m'\u001b[39m\u001b[38;5;124m\"\u001b[39m\u001b[38;5;241m.\u001b[39mformat(\u001b[38;5;28mformat\u001b[39m)) \u001b[38;5;28;01mfrom\u001b[39;00m \u001b[38;5;28mNone\u001b[39m\n\u001b[0;32m   1297\u001b[0m     func \u001b[38;5;241m=\u001b[39m format_info[\u001b[38;5;241m1\u001b[39m]\n\u001b[1;32m-> 1298\u001b[0m     func(filename, extract_dir, \u001b[38;5;241m*\u001b[39m\u001b[38;5;241m*\u001b[39m\u001b[38;5;28mdict\u001b[39m(format_info[\u001b[38;5;241m2\u001b[39m]))\n\u001b[0;32m   1299\u001b[0m \u001b[38;5;28;01melse\u001b[39;00m:\n\u001b[0;32m   1300\u001b[0m     \u001b[38;5;66;03m# we need to look at the registered unpackers supported extensions\u001b[39;00m\n\u001b[0;32m   1301\u001b[0m     \u001b[38;5;28mformat\u001b[39m \u001b[38;5;241m=\u001b[39m _find_unpack_format(filename)\n",
      "File \u001b[1;32m~\\AppData\\Local\\anaconda3\\lib\\shutil.py:1201\u001b[0m, in \u001b[0;36m_unpack_zipfile\u001b[1;34m(filename, extract_dir)\u001b[0m\n\u001b[0;32m   1198\u001b[0m \u001b[38;5;28;01mimport\u001b[39;00m \u001b[38;5;21;01mzipfile\u001b[39;00m  \u001b[38;5;66;03m# late import for breaking circular dependency\u001b[39;00m\n\u001b[0;32m   1200\u001b[0m \u001b[38;5;28;01mif\u001b[39;00m \u001b[38;5;129;01mnot\u001b[39;00m zipfile\u001b[38;5;241m.\u001b[39mis_zipfile(filename):\n\u001b[1;32m-> 1201\u001b[0m     \u001b[38;5;28;01mraise\u001b[39;00m ReadError(\u001b[38;5;124m\"\u001b[39m\u001b[38;5;132;01m%s\u001b[39;00m\u001b[38;5;124m is not a zip file\u001b[39m\u001b[38;5;124m\"\u001b[39m \u001b[38;5;241m%\u001b[39m filename)\n\u001b[0;32m   1203\u001b[0m \u001b[38;5;28mzip\u001b[39m \u001b[38;5;241m=\u001b[39m zipfile\u001b[38;5;241m.\u001b[39mZipFile(filename)\n\u001b[0;32m   1204\u001b[0m \u001b[38;5;28;01mtry\u001b[39;00m:\n",
      "\u001b[1;31mReadError\u001b[0m: 2018 03.zip is not a zip file"
     ]
    }
   ],
   "source": [
    "extension = \".zip\"\n",
    "\n",
    "#os.chdir(folder)  # Change directory from working dir to dir with files\n",
    "\n",
    "# Look for and extract any zipped files before zipping\n",
    "def unpack_all_in_dir(folder):\n",
    "    for item in os.listdir(folder):  # Loop through items in dir\n",
    "        abs_path = os.path.join(folder, item)  # Absolute path of dir or file\n",
    "        if item.endswith(extension):  # check for \".zip\" extension\n",
    "            file_name = os.path.abspath(abs_path)  # Get full path of file\n",
    "            print('Unzipping %s...' % (item))\n",
    "            shutil.unpack_archive(file_name)\n",
    "            os.remove(file_name)\n",
    "        else:\n",
    "            for f in os.listdir(abs_path):\n",
    "                file = os.path.join(abs_path,f)\n",
    "                print('Unzipping loose files: %s' % (f))\n",
    "                shutil.unpack_archive(f,format='zip')\n",
    "                os.remove(f)\n",
    "    print(os.listdir(abs_path))\n",
    "\n",
    "unpack_all_in_dir(folder)\n",
    "        #elif os.path.isdir(abs_path):\n",
    "         #   unpack_all_in_dir(abs_path)  # Loop this function with inner folder"
   ]
  },
  {
   "cell_type": "code",
   "execution_count": 23,
   "id": "77208967-532b-4812-a7de-4719350d77d8",
   "metadata": {},
   "outputs": [
    {
     "ename": "NameError",
     "evalue": "name 'abs_path' is not defined",
     "output_type": "error",
     "traceback": [
      "\u001b[1;31m---------------------------------------------------------------------------\u001b[0m",
      "\u001b[1;31mNameError\u001b[0m                                 Traceback (most recent call last)",
      "Cell \u001b[1;32mIn[23], line 1\u001b[0m\n\u001b[1;32m----> 1\u001b[0m \u001b[38;5;28mprint\u001b[39m(os\u001b[38;5;241m.\u001b[39mlistdir(\u001b[43mabs_path\u001b[49m))\n",
      "\u001b[1;31mNameError\u001b[0m: name 'abs_path' is not defined"
     ]
    }
   ],
   "source": [
    "print(os.listdir(abs_path))"
   ]
  },
  {
   "cell_type": "code",
   "execution_count": 3,
   "id": "9f3b40c4-754a-4c8e-9120-ddab9f7b5626",
   "metadata": {
    "tags": []
   },
   "outputs": [
    {
     "name": "stdout",
     "output_type": "stream",
     "text": [
      "Finished Zipping.\n"
     ]
    }
   ],
   "source": [
    "def backupToZip(folder):    \n",
    "    # Figure out the filename this code should used based on \n",
    "    # what files already exist.\n",
    "    # This is for if you input the whole \"Historical\" folder\n",
    "# The first section zips the months\n",
    "    for dirpath, dirnames, filenames in os.walk(folder):\n",
    "        make_archive(dirpath,'zip',dirpath)\n",
    "        for filename in filenames:\n",
    "#            print('Adding files %s...' % (filename))\n",
    "            make_archive(filename,'zip',filename)\n",
    "    print('Finished Zipping.')\n",
    "\n",
    "# This deletes the archive 'year' folders in the main path\n",
    "    for f in os.listdir(folder):\n",
    "        folder_delete = folder + '\\\\' + f\n",
    "        if folder_delete.endswith('.zip'):\n",
    "            os.remove(folder_delete)\n",
    "\n",
    "            # This deletes the non-zip months\n",
    "    for f in os.listdir(folder):\n",
    "        files = folder + '\\\\' + f\n",
    "        for folders, subfolders, filenames in os.walk(files):    \n",
    "            for sub in subfolders:\n",
    "                f_delete = files + '\\\\' + sub\n",
    "                if f_delete.endswith('.zip'):\n",
    "                    continue\n",
    "                else:\n",
    "                        shutil.rmtree(f_delete)\n",
    "\n",
    "# Cleans out CWD of copied zip files\n",
    "    current = os.getcwd()\n",
    "    for f in os.listdir(current):\n",
    "        current_delete = current + '\\\\' + f\n",
    "        if current_delete.endswith('.zip'):\n",
    "            os.remove(current_delete)\n",
    "\n",
    "# Removes archive of historical folder\n",
    "    base = os.path.dirname(folder)\n",
    "    for f in os.listdir(base):\n",
    "        base_delete = base + '\\\\' + f\n",
    "        if f == os.path.basename(folder) + '.zip':\n",
    "            os.remove(base_delete)    \n",
    "\n",
    "backupToZip(folder)"
   ]
  },
  {
   "cell_type": "code",
   "execution_count": 6,
   "id": "10463565-b1dd-4ebf-a2ee-b31e53c8dd0c",
   "metadata": {},
   "outputs": [
    {
     "name": "stdout",
     "output_type": "stream",
     "text": [
      "Loose files zipped: C:\\Users\\mfreese\\Downloads\\Side_work notes\\zip\\test_test\\2015\\AL FMSI CKG AND SAV1.xls\n",
      "Loose files zipped: C:\\Users\\mfreese\\Downloads\\Side_work notes\\zip\\test_test\\2015\\BTC Asset Liability Analysis - March 31, 2015.pdf\n",
      "Loose files zipped: C:\\Users\\mfreese\\Downloads\\Side_work notes\\zip\\test_test\\2016\\BTC Other Model Pages.xlsx\n",
      "Loose files zipped: C:\\Users\\mfreese\\Downloads\\Side_work notes\\zip\\test_test\\2016 Budget\\2016 Budget.xlsx\n",
      "Loose files zipped: C:\\Users\\mfreese\\Downloads\\Side_work notes\\zip\\test_test\\2016 Budget\\BTC 2016 Budget.pdf\n",
      "Loose files zipped: C:\\Users\\mfreese\\Downloads\\Side_work notes\\zip\\test_test\\2016 Budget\\BTC 2016 Internal Budget Projection.pdf\n",
      "Loose files zipped: C:\\Users\\mfreese\\Downloads\\Side_work notes\\zip\\test_test\\2016 Budget\\Cover.pdf\n",
      "Loose files zipped: C:\\Users\\mfreese\\Downloads\\Side_work notes\\zip\\test_test\\2016 Budget\\IS.pdf\n",
      "Loose files zipped: C:\\Users\\mfreese\\Downloads\\Side_work notes\\zip\\test_test\\2018\\DECEMBER ALFMSI- dda and savings.xls\n",
      "Loose files zipped: C:\\Users\\mfreese\\Downloads\\Side_work notes\\zip\\test_test\\2018\\FMSI CKG AND SAV.xls\n",
      "Loose files zipped: C:\\Users\\mfreese\\Downloads\\Side_work notes\\zip\\test_test\\2018\\NOVEMBER ALFMSI- dda and savings.xls\n",
      "Finished.\n"
     ]
    }
   ],
   "source": [
    "def singleZip():\n",
    "    for f in os.listdir(folder):\n",
    "        loose = os.path.join(folder,f)\n",
    "        for f in os.listdir(loose):\n",
    "            f = os.path.join(loose,f)\n",
    "            if f.endswith('.xls') or f.endswith('.pdf') or f.endswith('.xlsx'):\n",
    "                print('Loose files zipped: %s' % (f))\n",
    "                zipf = zipfile.ZipFile(f+'.zip','w',zipfile.ZIP_DEFLATED)\n",
    "                zipf.write(f,arcname=os.path.basename(f))\n",
    "                zipf.close()\n",
    "    print('Finished.')\n",
    "\n",
    "            # This deletes the non-zip months\n",
    "    for f in os.listdir(folder):\n",
    "        files = folder + '\\\\' + f\n",
    "        for folders, subfolders, filenames in os.walk(files):    \n",
    "            for sub in filenames:\n",
    "                f_delete = files + '\\\\' + sub\n",
    "                if f_delete.endswith('.zip'):\n",
    "                    continue\n",
    "                else:\n",
    "                        os.remove(f_delete)\n",
    "\n",
    "singleZip()"
   ]
  },
  {
   "cell_type": "code",
   "execution_count": null,
   "id": "77cbee2c-16f6-41bb-8b61-2fc48f33f85e",
   "metadata": {},
   "outputs": [],
   "source": []
  },
  {
   "cell_type": "code",
   "execution_count": 9,
   "id": "0395425e-c26d-43d4-b97f-39758a32de13",
   "metadata": {},
   "outputs": [
    {
     "name": "stdout",
     "output_type": "stream",
     "text": [
      "C:\\Users\\mfreese\\Downloads\\Side_work notes\\zip\\test_test\\2018\n",
      "['2018 03', '2018 06', '2018 09', '2018 12', 'DECEMBER ALFMSI- dda and savings.xls', 'FMSI CKG AND SAV.xls', 'NOVEMBER ALFMSI- dda and savings.xls']\n"
     ]
    }
   ],
   "source": [
    "for f in os.listdir(folder):\n",
    "    a = os.path.join(folder,f)\n",
    "    print(a)\n",
    "    print(os.listdir(a))"
   ]
  },
  {
   "cell_type": "markdown",
   "id": "bbfde705-c43c-4aa8-8a2d-76977b7e10ad",
   "metadata": {},
   "source": [
    "***"
   ]
  },
  {
   "cell_type": "code",
   "execution_count": 3,
   "id": "a10d1809-9a4c-4ecd-9d14-db762fb5ee0d",
   "metadata": {},
   "outputs": [
    {
     "name": "stdin",
     "output_type": "stream",
     "text": [
      "Enter the directory that needs to be zipped:  C:\\Users\\mfreese\\Downloads\\Side_work notes\\zip\\test\n"
     ]
    }
   ],
   "source": [
    "global folder\n",
    "    # Abs path for Directory to zip\n",
    "folder = os.path.join(str(input('Enter the directory that needs to be zipped: ')))\n",
    "folder = os.path.abspath(os.path.normpath(os.path.expanduser(folder)))"
   ]
  },
  {
   "cell_type": "code",
   "execution_count": 4,
   "id": "6cc4e18d-1940-48ae-bb31-59630ff20db1",
   "metadata": {},
   "outputs": [
    {
     "data": {
      "text/plain": [
       "'C:\\\\Users\\\\mfreese\\\\Downloads\\\\Side_work notes\\\\zip'"
      ]
     },
     "execution_count": 4,
     "metadata": {},
     "output_type": "execute_result"
    }
   ],
   "source": [
    "os.path.dirname(folder)"
   ]
  },
  {
   "cell_type": "code",
   "execution_count": 6,
   "id": "8d375515-c4d4-4f88-aac8-5d167cb4b84b",
   "metadata": {},
   "outputs": [
    {
     "data": {
      "text/plain": [
       "'test'"
      ]
     },
     "execution_count": 6,
     "metadata": {},
     "output_type": "execute_result"
    }
   ],
   "source": [
    "os.path.basename(folder)"
   ]
  },
  {
   "cell_type": "code",
   "execution_count": 47,
   "id": "12f0db60-39a9-4e5b-9c2d-a7e4e7738842",
   "metadata": {
    "tags": []
   },
   "outputs": [
    {
     "name": "stdout",
     "output_type": "stream",
     "text": [
      "Finished Zipping.\n"
     ]
    }
   ],
   "source": [
    "# This is for if you input the whole \"Historical\" folder\n",
    "for dirpath, dirnames, filenames in os.walk(folder):\n",
    "    make_archive(dirpath,'zip',dirpath)\n",
    "    for filename in filenames:\n",
    "        #print('Adding files in %s...' % (filename))\n",
    "        make_archive(filename,'zip',filename)\n",
    "print('Finished Zipping.')"
   ]
  },
  {
   "cell_type": "code",
   "execution_count": 48,
   "id": "55797504-e39c-4310-bbe1-08ff6bb13436",
   "metadata": {},
   "outputs": [],
   "source": [
    "for f in os.listdir(folder):\n",
    "    folder_delete = folder + '\\\\' + f\n",
    "    if folder_delete.endswith('.zip'):\n",
    "        os.remove(folder_delete)"
   ]
  },
  {
   "cell_type": "code",
   "execution_count": 49,
   "id": "5c06ccf6-2c7b-4f62-82cb-36fe332e3709",
   "metadata": {},
   "outputs": [],
   "source": [
    "for f in os.listdir(folder):\n",
    "    files = folder + '\\\\' + f\n",
    "    for folders, subfolders, filenames in os.walk(files):    \n",
    "        for sub in subfolders:\n",
    "            f_delete = files + '\\\\' + sub\n",
    "            if f_delete.endswith('.zip'):\n",
    "                continue\n",
    "            else:\n",
    "                    shutil.rmtree(f_delete)"
   ]
  },
  {
   "cell_type": "code",
   "execution_count": null,
   "id": "a6d64610-c5c5-4bb8-ba03-bd09c6885ce7",
   "metadata": {},
   "outputs": [],
   "source": []
  },
  {
   "cell_type": "code",
   "execution_count": null,
   "id": "53987289-e5e5-4564-b241-d70e39c2c254",
   "metadata": {},
   "outputs": [],
   "source": []
  },
  {
   "cell_type": "markdown",
   "id": "95066e40-5ccc-4bc9-b796-257c831cd6be",
   "metadata": {},
   "source": [
    "# Clean out CWD"
   ]
  },
  {
   "cell_type": "code",
   "execution_count": 44,
   "id": "46d59a29-fb93-499d-97db-1c3d9471d906",
   "metadata": {},
   "outputs": [
    {
     "name": "stdout",
     "output_type": "stream",
     "text": [
      "C:\\Users\\mfreese\\Downloads\\Side_work notes\\zip\\zip\n"
     ]
    }
   ],
   "source": [
    "print(os.getcwd())"
   ]
  },
  {
   "cell_type": "code",
   "execution_count": 50,
   "id": "86226c19-56b7-4cad-b2e1-169ea595e224",
   "metadata": {},
   "outputs": [],
   "source": [
    "current = os.getcwd()\n",
    "for f in os.listdir(current):\n",
    "    folder_delete = current + '\\\\' + f\n",
    "    if folder_delete.endswith('.zip'):\n",
    "        os.remove(folder_delete)"
   ]
  },
  {
   "cell_type": "code",
   "execution_count": null,
   "id": "9a85f41c-20bc-4fd8-9a4f-c5d1a2009422",
   "metadata": {},
   "outputs": [],
   "source": []
  },
  {
   "cell_type": "code",
   "execution_count": null,
   "id": "f2384cd7-c9d0-4b0b-8349-8696c6b8b7d0",
   "metadata": {},
   "outputs": [],
   "source": []
  },
  {
   "cell_type": "code",
   "execution_count": null,
   "id": "cb263033-0548-459b-a209-722eb26b206c",
   "metadata": {},
   "outputs": [],
   "source": []
  },
  {
   "cell_type": "code",
   "execution_count": null,
   "id": "cc39cf28-77ac-455a-bc37-c19fc3201644",
   "metadata": {},
   "outputs": [],
   "source": []
  },
  {
   "cell_type": "code",
   "execution_count": null,
   "id": "069cd187-ca18-444e-8e68-89a0260e28ca",
   "metadata": {},
   "outputs": [],
   "source": []
  },
  {
   "cell_type": "code",
   "execution_count": null,
   "id": "68642b27-bb37-48d8-b284-15c15f09ceba",
   "metadata": {},
   "outputs": [],
   "source": []
  },
  {
   "cell_type": "code",
   "execution_count": null,
   "id": "82350009-5a99-4274-9c7b-5b9f87cfeb86",
   "metadata": {},
   "outputs": [],
   "source": []
  },
  {
   "cell_type": "code",
   "execution_count": null,
   "id": "d30ff24d-8fc6-43f2-a7e9-f2974d3043d0",
   "metadata": {},
   "outputs": [],
   "source": []
  },
  {
   "cell_type": "code",
   "execution_count": null,
   "id": "5798c71b-fd06-4402-8d56-bad718760050",
   "metadata": {},
   "outputs": [],
   "source": []
  },
  {
   "cell_type": "code",
   "execution_count": null,
   "id": "e3175ded-ce27-426f-ae57-25d180c1ed6f",
   "metadata": {},
   "outputs": [],
   "source": []
  },
  {
   "cell_type": "markdown",
   "id": "995a3441-f61c-498a-b497-9061bdeeb978",
   "metadata": {
    "tags": []
   },
   "source": [
    "# Works for year as input\n",
    "for foldername, subfolders, filenames in os.walk(folder):\n",
    "    print('Adding files in %s...' % (foldername))\n",
    "    # Add the current folder to the ZIP file.\n",
    "    make_archive(foldername,'zip',foldername)\n",
    "\n",
    "for f in os.listdir(folder):\n",
    "    f_delete = folder + '\\\\' + f\n",
    "    if f_delete.endswith('.zip'):\n",
    "        continue\n",
    "    else:\n",
    "            shutil.rmtree(f_delete)\n",
    "\n",
    "for f in os.listdir(os.path.dirname(folder)):\n",
    "    folder_delete = os.path.dirname(folder) + '\\\\' + f\n",
    "    if folder_delete.endswith('.zip'):\n",
    "        os.remove(folder_delete)"
   ]
  },
  {
   "cell_type": "code",
   "execution_count": null,
   "id": "b89ae57c-df81-4db6-9815-98c54b7aa866",
   "metadata": {},
   "outputs": [],
   "source": []
  },
  {
   "cell_type": "code",
   "execution_count": null,
   "id": "b0b4ff00-2c13-4d1b-bdb0-3a049f4a381a",
   "metadata": {},
   "outputs": [],
   "source": []
  },
  {
   "cell_type": "code",
   "execution_count": null,
   "id": "db8a423d-91b3-461f-bcae-030140003caa",
   "metadata": {},
   "outputs": [],
   "source": []
  },
  {
   "cell_type": "code",
   "execution_count": 167,
   "id": "f778a398-066d-4bac-9c74-3b9c53cd24de",
   "metadata": {},
   "outputs": [
    {
     "ename": "PermissionError",
     "evalue": "[Errno 13] Permission denied: 'C:\\\\Users\\\\mfreese\\\\Downloads\\\\Side_work notes\\\\zip\\\\test\\\\2021'",
     "output_type": "error",
     "traceback": [
      "\u001b[1;31m---------------------------------------------------------------------------\u001b[0m",
      "\u001b[1;31mPermissionError\u001b[0m                           Traceback (most recent call last)",
      "Cell \u001b[1;32mIn[167], line 6\u001b[0m\n\u001b[0;32m      4\u001b[0m os\u001b[38;5;241m.\u001b[39mchmod(file_name, stat\u001b[38;5;241m.\u001b[39mS_IWRITE) \n\u001b[0;32m      5\u001b[0m base \u001b[38;5;241m=\u001b[39m os\u001b[38;5;241m.\u001b[39mpath\u001b[38;5;241m.\u001b[39mjoin(os\u001b[38;5;241m.\u001b[39mpath\u001b[38;5;241m.\u001b[39mdirname(folder),os\u001b[38;5;241m.\u001b[39mpath\u001b[38;5;241m.\u001b[39mbasename(folder)\u001b[38;5;241m+\u001b[39m\u001b[38;5;124m'\u001b[39m\u001b[38;5;124m_\u001b[39m\u001b[38;5;124m'\u001b[39m)\n\u001b[1;32m----> 6\u001b[0m \u001b[43mshutil\u001b[49m\u001b[38;5;241;43m.\u001b[39;49m\u001b[43mcopyfile\u001b[49m\u001b[43m(\u001b[49m\u001b[38;5;124;43m'\u001b[39;49m\u001b[38;5;124;43mC:\u001b[39;49m\u001b[38;5;130;43;01m\\\\\u001b[39;49;00m\u001b[38;5;124;43mUsers\u001b[39;49m\u001b[38;5;130;43;01m\\\\\u001b[39;49;00m\u001b[38;5;124;43mmfreese\u001b[39;49m\u001b[38;5;130;43;01m\\\\\u001b[39;49;00m\u001b[38;5;124;43mDownloads\u001b[39;49m\u001b[38;5;130;43;01m\\\\\u001b[39;49;00m\u001b[38;5;124;43mSide_work notes\u001b[39;49m\u001b[38;5;130;43;01m\\\\\u001b[39;49;00m\u001b[38;5;124;43mzip\u001b[39;49m\u001b[38;5;130;43;01m\\\\\u001b[39;49;00m\u001b[38;5;124;43mtest\u001b[39;49m\u001b[38;5;130;43;01m\\\\\u001b[39;49;00m\u001b[38;5;124;43m2021\u001b[39;49m\u001b[38;5;124;43m'\u001b[39;49m\u001b[43m,\u001b[49m\u001b[43mos\u001b[49m\u001b[38;5;241;43m.\u001b[39;49m\u001b[43mpath\u001b[49m\u001b[38;5;241;43m.\u001b[39;49m\u001b[43mdirname\u001b[49m\u001b[43m(\u001b[49m\u001b[43mfolder\u001b[49m\u001b[43m)\u001b[49m\u001b[43m)\u001b[49m\n\u001b[0;32m      7\u001b[0m \u001b[38;5;28;01mcontinue\u001b[39;00m\n\u001b[0;32m      8\u001b[0m shutil\u001b[38;5;241m.\u001b[39mrmtree(folder)\n",
      "File \u001b[1;32m~\\AppData\\Local\\anaconda3\\lib\\shutil.py:254\u001b[0m, in \u001b[0;36mcopyfile\u001b[1;34m(src, dst, follow_symlinks)\u001b[0m\n\u001b[0;32m    252\u001b[0m     os\u001b[38;5;241m.\u001b[39msymlink(os\u001b[38;5;241m.\u001b[39mreadlink(src), dst)\n\u001b[0;32m    253\u001b[0m \u001b[38;5;28;01melse\u001b[39;00m:\n\u001b[1;32m--> 254\u001b[0m     \u001b[38;5;28;01mwith\u001b[39;00m \u001b[38;5;28;43mopen\u001b[39;49m\u001b[43m(\u001b[49m\u001b[43msrc\u001b[49m\u001b[43m,\u001b[49m\u001b[43m \u001b[49m\u001b[38;5;124;43m'\u001b[39;49m\u001b[38;5;124;43mrb\u001b[39;49m\u001b[38;5;124;43m'\u001b[39;49m\u001b[43m)\u001b[49m \u001b[38;5;28;01mas\u001b[39;00m fsrc:\n\u001b[0;32m    255\u001b[0m         \u001b[38;5;28;01mtry\u001b[39;00m:\n\u001b[0;32m    256\u001b[0m             \u001b[38;5;28;01mwith\u001b[39;00m \u001b[38;5;28mopen\u001b[39m(dst, \u001b[38;5;124m'\u001b[39m\u001b[38;5;124mwb\u001b[39m\u001b[38;5;124m'\u001b[39m) \u001b[38;5;28;01mas\u001b[39;00m fdst:\n\u001b[0;32m    257\u001b[0m                 \u001b[38;5;66;03m# macOS\u001b[39;00m\n",
      "\u001b[1;31mPermissionError\u001b[0m: [Errno 13] Permission denied: 'C:\\\\Users\\\\mfreese\\\\Downloads\\\\Side_work notes\\\\zip\\\\test\\\\2021'"
     ]
    }
   ],
   "source": [
    "for f in os.listdir(folder):   \n",
    "    if f.endswith('.zip'):\n",
    "        file_name = os.path.abspath(folder)\n",
    "        os.chmod(file_name, stat.S_IWRITE) \n",
    "        base = os.path.join(os.path.dirname(folder),os.path.basename(folder)+'_')\n",
    "        shutil.copyfile('C:\\\\Users\\\\mfreese\\\\Downloads\\\\Side_work notes\\\\zip\\\\test\\\\2021',os.path.dirname(folder))\n",
    "        continue\n",
    "        shutil.rmtree(folder)"
   ]
  },
  {
   "cell_type": "code",
   "execution_count": 150,
   "id": "9e0fa74f-2e43-40c9-9e2d-c5ff1a8bfc82",
   "metadata": {},
   "outputs": [
    {
     "name": "stdout",
     "output_type": "stream",
     "text": [
      "2021_\n"
     ]
    }
   ],
   "source": [
    "print(os.path.basename(base))"
   ]
  },
  {
   "cell_type": "code",
   "execution_count": 92,
   "id": "00afdc66-d016-4333-9bff-ca41288f1ac8",
   "metadata": {},
   "outputs": [],
   "source": [
    " for foldername, subfolders, filenames in os.walk(os.path.dirname(folder)):\n",
    "        if filename.startswith(os.path.basename(folder)) and filename.endswith('.zip'):\n",
    "            delete = os.path.join(folder + filename)\n",
    "            shutil.rmtree(delete)"
   ]
  },
  {
   "cell_type": "code",
   "execution_count": 79,
   "id": "3d6c879d-c75e-4b4b-95e0-7e282d2b59ae",
   "metadata": {},
   "outputs": [
    {
     "name": "stdout",
     "output_type": "stream",
     "text": [
      "C:\\Users\\mfreese\\Downloads\\Side_work notes\\zip\\test\n"
     ]
    }
   ],
   "source": [
    "print(os.path.dirname(folder))"
   ]
  },
  {
   "cell_type": "code",
   "execution_count": 71,
   "id": "d2094192-913f-4895-a051-b4ef7ccb1050",
   "metadata": {},
   "outputs": [
    {
     "name": "stdin",
     "output_type": "stream",
     "text": [
      "What path to delete archive folder:  C:\\Users\\mfreese\\Downloads\\Side_work notes\\zip\\test\n"
     ]
    }
   ],
   "source": [
    "fold = input('What path to delete archive folder: ')"
   ]
  },
  {
   "cell_type": "code",
   "execution_count": 72,
   "id": "70b3d8d5-1d01-4194-afb8-3a9096053f79",
   "metadata": {},
   "outputs": [
    {
     "ename": "NotADirectoryError",
     "evalue": "[WinError 267] The directory name is invalid: 'C:\\\\Users\\\\mfreese\\\\Downloads\\\\Side_work notes\\\\zip\\\\test\\\\2021.zip'",
     "output_type": "error",
     "traceback": [
      "\u001b[1;31m---------------------------------------------------------------------------\u001b[0m",
      "\u001b[1;31mNotADirectoryError\u001b[0m                        Traceback (most recent call last)",
      "Cell \u001b[1;32mIn[72], line 2\u001b[0m\n\u001b[0;32m      1\u001b[0m folder \u001b[38;5;241m=\u001b[39m os\u001b[38;5;241m.\u001b[39mpath\u001b[38;5;241m.\u001b[39mjoin(fold,os\u001b[38;5;241m.\u001b[39mpath\u001b[38;5;241m.\u001b[39mbasename(folder)) \u001b[38;5;241m+\u001b[39m \u001b[38;5;124m'\u001b[39m\u001b[38;5;124m.zip\u001b[39m\u001b[38;5;124m'\u001b[39m\n\u001b[1;32m----> 2\u001b[0m \u001b[43mshutil\u001b[49m\u001b[38;5;241;43m.\u001b[39;49m\u001b[43mrmtree\u001b[49m\u001b[43m(\u001b[49m\u001b[43mfolder\u001b[49m\u001b[43m)\u001b[49m\n",
      "File \u001b[1;32m~\\AppData\\Local\\anaconda3\\lib\\shutil.py:750\u001b[0m, in \u001b[0;36mrmtree\u001b[1;34m(path, ignore_errors, onerror)\u001b[0m\n\u001b[0;32m    748\u001b[0m     \u001b[38;5;66;03m# can't continue even if onerror hook returns\u001b[39;00m\n\u001b[0;32m    749\u001b[0m     \u001b[38;5;28;01mreturn\u001b[39;00m\n\u001b[1;32m--> 750\u001b[0m \u001b[38;5;28;01mreturn\u001b[39;00m \u001b[43m_rmtree_unsafe\u001b[49m\u001b[43m(\u001b[49m\u001b[43mpath\u001b[49m\u001b[43m,\u001b[49m\u001b[43m \u001b[49m\u001b[43monerror\u001b[49m\u001b[43m)\u001b[49m\n",
      "File \u001b[1;32m~\\AppData\\Local\\anaconda3\\lib\\shutil.py:601\u001b[0m, in \u001b[0;36m_rmtree_unsafe\u001b[1;34m(path, onerror)\u001b[0m\n\u001b[0;32m    599\u001b[0m         entries \u001b[38;5;241m=\u001b[39m \u001b[38;5;28mlist\u001b[39m(scandir_it)\n\u001b[0;32m    600\u001b[0m \u001b[38;5;28;01mexcept\u001b[39;00m \u001b[38;5;167;01mOSError\u001b[39;00m:\n\u001b[1;32m--> 601\u001b[0m     \u001b[43monerror\u001b[49m\u001b[43m(\u001b[49m\u001b[43mos\u001b[49m\u001b[38;5;241;43m.\u001b[39;49m\u001b[43mscandir\u001b[49m\u001b[43m,\u001b[49m\u001b[43m \u001b[49m\u001b[43mpath\u001b[49m\u001b[43m,\u001b[49m\u001b[43m \u001b[49m\u001b[43msys\u001b[49m\u001b[38;5;241;43m.\u001b[39;49m\u001b[43mexc_info\u001b[49m\u001b[43m(\u001b[49m\u001b[43m)\u001b[49m\u001b[43m)\u001b[49m\n\u001b[0;32m    602\u001b[0m     entries \u001b[38;5;241m=\u001b[39m []\n\u001b[0;32m    603\u001b[0m \u001b[38;5;28;01mfor\u001b[39;00m entry \u001b[38;5;129;01min\u001b[39;00m entries:\n",
      "File \u001b[1;32m~\\AppData\\Local\\anaconda3\\lib\\shutil.py:598\u001b[0m, in \u001b[0;36m_rmtree_unsafe\u001b[1;34m(path, onerror)\u001b[0m\n\u001b[0;32m    596\u001b[0m \u001b[38;5;28;01mdef\u001b[39;00m \u001b[38;5;21m_rmtree_unsafe\u001b[39m(path, onerror):\n\u001b[0;32m    597\u001b[0m     \u001b[38;5;28;01mtry\u001b[39;00m:\n\u001b[1;32m--> 598\u001b[0m         \u001b[38;5;28;01mwith\u001b[39;00m \u001b[43mos\u001b[49m\u001b[38;5;241;43m.\u001b[39;49m\u001b[43mscandir\u001b[49m\u001b[43m(\u001b[49m\u001b[43mpath\u001b[49m\u001b[43m)\u001b[49m \u001b[38;5;28;01mas\u001b[39;00m scandir_it:\n\u001b[0;32m    599\u001b[0m             entries \u001b[38;5;241m=\u001b[39m \u001b[38;5;28mlist\u001b[39m(scandir_it)\n\u001b[0;32m    600\u001b[0m     \u001b[38;5;28;01mexcept\u001b[39;00m \u001b[38;5;167;01mOSError\u001b[39;00m:\n",
      "\u001b[1;31mNotADirectoryError\u001b[0m: [WinError 267] The directory name is invalid: 'C:\\\\Users\\\\mfreese\\\\Downloads\\\\Side_work notes\\\\zip\\\\test\\\\2021.zip'"
     ]
    }
   ],
   "source": [
    "folder = os.path.join(fold,os.path.basename(folder)) + '.zip'\n",
    "shutil.rmtree(folder)"
   ]
  },
  {
   "cell_type": "code",
   "execution_count": null,
   "id": "927d604a-ef48-4271-97cc-c339f2280506",
   "metadata": {},
   "outputs": [],
   "source": []
  },
  {
   "cell_type": "code",
   "execution_count": 23,
   "id": "e6672000-3d6e-4dea-9375-472d3c265758",
   "metadata": {},
   "outputs": [],
   "source": [
    "for filename in filenames:\n",
    "    make_archive(filename, 'zip', filename)"
   ]
  },
  {
   "cell_type": "code",
   "execution_count": 28,
   "id": "e2e4769e-00f4-4592-a00f-bf3cec5b0e9c",
   "metadata": {},
   "outputs": [],
   "source": [
    "import zipfile\n",
    "import os\n",
    "\n",
    "d = 'C:\\\\Users\\\\mfreese\\\\Downloads\\\\Side_work notes\\\\zip\\\\test\\\\2019'\n",
    "\n",
    "os.chdir(os.path.dirname(d))\n",
    "with zipfile.ZipFile(d + '.zip',\n",
    "                     \"w\",\n",
    "                     zipfile.ZIP_DEFLATED,\n",
    "                     allowZip64=True) as zf:\n",
    "    for root, _, filenames in os.walk(os.path.basename(d)):\n",
    "        for name in filenames:\n",
    "            name = os.path.join(root, name)\n",
    "            name = os.path.normpath(name)\n",
    "            zf.write(name, name)"
   ]
  },
  {
   "cell_type": "code",
   "execution_count": 19,
   "id": "7d1c037f-cb78-4e03-984d-7c0f50abe34b",
   "metadata": {},
   "outputs": [
    {
     "ename": "FileNotFoundError",
     "evalue": "[WinError 2] The system cannot find the file specified: 'ZM Input Instal Loans Synergy.xls'",
     "output_type": "error",
     "traceback": [
      "\u001b[1;31m---------------------------------------------------------------------------\u001b[0m",
      "\u001b[1;31mFileNotFoundError\u001b[0m                         Traceback (most recent call last)",
      "Cell \u001b[1;32mIn[19], line 14\u001b[0m\n\u001b[0;32m     12\u001b[0m \u001b[38;5;28;01mfor\u001b[39;00m filename \u001b[38;5;129;01min\u001b[39;00m filenames:\n\u001b[0;32m     13\u001b[0m     filename \u001b[38;5;241m=\u001b[39m os\u001b[38;5;241m.\u001b[39mpath\u001b[38;5;241m.\u001b[39mnormpath(filename)\n\u001b[1;32m---> 14\u001b[0m     \u001b[43mzf\u001b[49m\u001b[38;5;241;43m.\u001b[39;49m\u001b[43mwrite\u001b[49m\u001b[43m(\u001b[49m\u001b[43mfilename\u001b[49m\u001b[43m,\u001b[49m\u001b[43mfilename\u001b[49m\u001b[43m)\u001b[49m\n",
      "File \u001b[1;32m~\\AppData\\Local\\anaconda3\\lib\\zipfile.py:1739\u001b[0m, in \u001b[0;36mZipFile.write\u001b[1;34m(self, filename, arcname, compress_type, compresslevel)\u001b[0m\n\u001b[0;32m   1734\u001b[0m \u001b[38;5;28;01mif\u001b[39;00m \u001b[38;5;28mself\u001b[39m\u001b[38;5;241m.\u001b[39m_writing:\n\u001b[0;32m   1735\u001b[0m     \u001b[38;5;28;01mraise\u001b[39;00m \u001b[38;5;167;01mValueError\u001b[39;00m(\n\u001b[0;32m   1736\u001b[0m         \u001b[38;5;124m\"\u001b[39m\u001b[38;5;124mCan\u001b[39m\u001b[38;5;124m'\u001b[39m\u001b[38;5;124mt write to ZIP archive while an open writing handle exists\u001b[39m\u001b[38;5;124m\"\u001b[39m\n\u001b[0;32m   1737\u001b[0m     )\n\u001b[1;32m-> 1739\u001b[0m zinfo \u001b[38;5;241m=\u001b[39m \u001b[43mZipInfo\u001b[49m\u001b[38;5;241;43m.\u001b[39;49m\u001b[43mfrom_file\u001b[49m\u001b[43m(\u001b[49m\u001b[43mfilename\u001b[49m\u001b[43m,\u001b[49m\u001b[43m \u001b[49m\u001b[43marcname\u001b[49m\u001b[43m,\u001b[49m\n\u001b[0;32m   1740\u001b[0m \u001b[43m                          \u001b[49m\u001b[43mstrict_timestamps\u001b[49m\u001b[38;5;241;43m=\u001b[39;49m\u001b[38;5;28;43mself\u001b[39;49m\u001b[38;5;241;43m.\u001b[39;49m\u001b[43m_strict_timestamps\u001b[49m\u001b[43m)\u001b[49m\n\u001b[0;32m   1742\u001b[0m \u001b[38;5;28;01mif\u001b[39;00m zinfo\u001b[38;5;241m.\u001b[39mis_dir():\n\u001b[0;32m   1743\u001b[0m     zinfo\u001b[38;5;241m.\u001b[39mcompress_size \u001b[38;5;241m=\u001b[39m \u001b[38;5;241m0\u001b[39m\n",
      "File \u001b[1;32m~\\AppData\\Local\\anaconda3\\lib\\zipfile.py:502\u001b[0m, in \u001b[0;36mZipInfo.from_file\u001b[1;34m(cls, filename, arcname, strict_timestamps)\u001b[0m\n\u001b[0;32m    500\u001b[0m \u001b[38;5;28;01mif\u001b[39;00m \u001b[38;5;28misinstance\u001b[39m(filename, os\u001b[38;5;241m.\u001b[39mPathLike):\n\u001b[0;32m    501\u001b[0m     filename \u001b[38;5;241m=\u001b[39m os\u001b[38;5;241m.\u001b[39mfspath(filename)\n\u001b[1;32m--> 502\u001b[0m st \u001b[38;5;241m=\u001b[39m \u001b[43mos\u001b[49m\u001b[38;5;241;43m.\u001b[39;49m\u001b[43mstat\u001b[49m\u001b[43m(\u001b[49m\u001b[43mfilename\u001b[49m\u001b[43m)\u001b[49m\n\u001b[0;32m    503\u001b[0m isdir \u001b[38;5;241m=\u001b[39m stat\u001b[38;5;241m.\u001b[39mS_ISDIR(st\u001b[38;5;241m.\u001b[39mst_mode)\n\u001b[0;32m    504\u001b[0m mtime \u001b[38;5;241m=\u001b[39m time\u001b[38;5;241m.\u001b[39mlocaltime(st\u001b[38;5;241m.\u001b[39mst_mtime)\n",
      "\u001b[1;31mFileNotFoundError\u001b[0m: [WinError 2] The system cannot find the file specified: 'ZM Input Instal Loans Synergy.xls'"
     ]
    }
   ],
   "source": [
    "import zipfile\n",
    "import os\n",
    "\n",
    "d = 'C:\\\\Users\\\\mfreese\\\\Downloads\\\\Side_work notes\\\\zip\\\\test\\\\2019'\n",
    "\n",
    "os.chdir(os.path.dirname(d))\n",
    "with zipfile.ZipFile(d + '.zip',\n",
    "                     \"w\",\n",
    "                     zipfile.ZIP_DEFLATED,\n",
    "                     allowZip64=True) as zf:\n",
    "    for foldername, subfolders, filenames in os.walk(os.path.basename(d)):\n",
    "        for filename in filenames:\n",
    "            filename = os.path.normpath(filename)\n",
    "            zf.write(filename,filename)"
   ]
  },
  {
   "cell_type": "code",
   "execution_count": null,
   "id": "8531e5c7-3980-45b1-b2d6-7b32be5d7503",
   "metadata": {},
   "outputs": [],
   "source": []
  }
 ],
 "metadata": {
  "kernelspec": {
   "display_name": "Python 3 (ipykernel)",
   "language": "python",
   "name": "python3"
  },
  "language_info": {
   "codemirror_mode": {
    "name": "ipython",
    "version": 3
   },
   "file_extension": ".py",
   "mimetype": "text/x-python",
   "name": "python",
   "nbconvert_exporter": "python",
   "pygments_lexer": "ipython3",
   "version": "3.10.10"
  }
 },
 "nbformat": 4,
 "nbformat_minor": 5
}
