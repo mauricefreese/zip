{
 "cells": [
  {
   "cell_type": "markdown",
   "id": "67b72a79-eaa4-4cbe-925d-6ab5b66629ec",
   "metadata": {},
   "source": [
    "## Directory Zipper"
   ]
  },
  {
   "cell_type": "code",
   "execution_count": 26,
   "id": "62b87fcf-2ce8-445d-8cd4-f6d167cc36b4",
   "metadata": {
    "tags": []
   },
   "outputs": [
    {
     "name": "stdin",
     "output_type": "stream",
     "text": [
      "Enter the directory:  S:\\Clients\\Synergy FCU\\ALM\\Historical\\test\\2021\\2021 09\n"
     ]
    },
    {
     "name": "stdout",
     "output_type": "stream",
     "text": [
      "Creating 2021 09_1.zip...\n",
      "Adding files in S:\\Clients\\Synergy FCU\\ALM\\Historical\\test\\2021\\2021 09...\n",
      "Adding files in S:\\Clients\\Synergy FCU\\ALM\\Historical\\test\\2021\\2021 09\\Raw...\n",
      "Done.\n"
     ]
    },
    {
     "name": "stdin",
     "output_type": "stream",
     "text": [
      "What path do you want this zipped file to be transferred to?:  S:\\Clients\\Synergy FCU\\ALM\\Historical\\test\\2021\n"
     ]
    }
   ],
   "source": [
    "#! python3\n",
    "#backuoToZip.py - Copies an entire folder and its contents into a Zip file\n",
    "#whose filename increments.\n",
    "\n",
    "import zipfile, os\n",
    "import shutil\n",
    "\n",
    "def backupToZip(folder):\n",
    "    # Where to grab the files from\n",
    "    path = str(input('Enter the directory: '))\n",
    "    path = os.path.abspath(os.path.normpath(os.path.expanduser(path)))\n",
    "    \n",
    "    # Backup the entire contents of \"folder\" into a zip file.\n",
    "\n",
    "    folder = os.path.abspath(path) # make sure folder is absolute\n",
    "\n",
    "    # Figure out the filename this code should used based on \n",
    "    # what files already exist.\n",
    "    number = 1\n",
    "    while True:\n",
    "        zipFilename = os.path.basename(folder) + '_' + str(number) + '.zip'\n",
    "        if not os.path.exists(zipFilename):\n",
    "            break\n",
    "        number = number + 1\n",
    "\n",
    "    # Create the zip file.\n",
    "    print('Creating %s...' % (zipFilename))\n",
    "    backupZip = zipfile.ZipFile(zipFilename, 'w')\n",
    "\n",
    "    # Walk the entire folder tree and compress the files in each folder.\n",
    "    for foldername, subfolders, filenames in os.walk(folder):\n",
    "        print('Adding files in %s...' % (foldername))\n",
    "        # Add the current folder to the ZIP file.\n",
    "        backupZip.write(foldername)\n",
    "\n",
    "        # Add all the files in this folder to the ZIP file.\n",
    "        for filename in filenames:\n",
    "            if filename.startswith(os.path.basename(folder) + '_') and filename.endswith('.zip'):\n",
    "                continue # don't backup the backup ZIP files\n",
    "            backupZip.write(os.path.join(foldername, filename))\n",
    "    backupZip.close()\n",
    "    print('Done.')\n",
    "    \n",
    "    #prints pathway of directory\n",
    "    final_path = os.getcwd() + '\\\\' + backupZip.filename\n",
    "    original = final_path\n",
    "    target = (input('What path do you want this zipped file to be transferred to?: '))\n",
    "    shutil.move(original,target)\n",
    "\n",
    "backupToZip(path)"
   ]
  }
 ],
 "metadata": {
  "kernelspec": {
   "display_name": "Python 3 (ipykernel)",
   "language": "python",
   "name": "python3"
  },
  "language_info": {
   "codemirror_mode": {
    "name": "ipython",
    "version": 3
   },
   "file_extension": ".py",
   "mimetype": "text/x-python",
   "name": "python",
   "nbconvert_exporter": "python",
   "pygments_lexer": "ipython3",
   "version": "3.10.10"
  }
 },
 "nbformat": 4,
 "nbformat_minor": 5
}
